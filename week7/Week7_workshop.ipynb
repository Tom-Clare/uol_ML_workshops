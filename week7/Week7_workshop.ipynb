{
 "cells": [
  {
   "cell_type": "markdown",
   "metadata": {},
   "source": [
    "## Workshop week 7 -- K-means clustering"
   ]
  },
  {
   "cell_type": "markdown",
   "metadata": {},
   "source": [
    "For this workshop, we will implement the K-means clustering discussed in the lecture. You are encouraged to try and write your own implementation of the algorithm, as this will also be needed for your assessment.\n",
    "\n",
    "However, for this workshop, you are also allowed to use the `sklearn` implementation of this algorithm."
   ]
  },
  {
   "cell_type": "code",
   "execution_count": 1,
   "metadata": {},
   "outputs": [],
   "source": [
    "import numpy as np\n",
    "import pandas as pd"
   ]
  },
  {
   "cell_type": "markdown",
   "metadata": {},
   "source": [
    "#### Excercise 1\n",
    "\n",
    "Download the file `kmeans.csv` from Blackboard. Load the data (containing two attributes), by completing the code snippet below.\n",
    "\n",
    "How many samples are there in the dataset? (Having correctly loaded the data, the following cell should output the number of samples.)\n",
    "\n",
    "You can also add a line to shuffle the samples -- this is to show that the order of training samples does not influence the result. (Not doing this should also not influence the rest of your excercises)."
   ]
  },
  {
   "cell_type": "code",
   "execution_count": 2,
   "metadata": {},
   "outputs": [],
   "source": [
    "def get_data():\n",
    "    # load the data:\n",
    "    df = pd.read_csv('kmeans.csv', header=None)\n",
    "    \n",
    "    \n",
    "    # shuffle data rows\n",
    "    df = df.sample(frac=1).reset_index(drop=True)\n",
    "    \n",
    "    \n",
    "    return df"
   ]
  },
  {
   "cell_type": "code",
   "execution_count": 3,
   "metadata": {},
   "outputs": [
    {
     "name": "stdout",
     "output_type": "stream",
     "text": [
      "There are 300 samples\n"
     ]
    }
   ],
   "source": [
    "data = get_data()\n",
    "print(\"There are {} samples\".format(len(data)))"
   ]
  },
  {
   "cell_type": "markdown",
   "metadata": {},
   "source": [
    "#### Excercise 2\n",
    "\n",
    "Visualise the data using a scatter plot.\n",
    "\n",
    "Can you _visually determine_ the number of clusters in the data?"
   ]
  },
  {
   "cell_type": "code",
   "execution_count": 4,
   "metadata": {},
   "outputs": [],
   "source": [
    "import matplotlib.pyplot as plt\n",
    "import matplotlib as mpl"
   ]
  },
  {
   "cell_type": "code",
   "execution_count": 5,
   "metadata": {},
   "outputs": [
    {
     "data": {
      "image/png": "[encoded data removed]",
      "text/plain": [
       "<Figure size 432x288 with 1 Axes>"
      ]
     },
     "metadata": {
      "needs_background": "light"
     },
     "output_type": "display_data"
    }
   ],
   "source": [
    "# show the scatter plot of the data\n",
    "plt.scatter(data[0], data[1])\n",
    "\n",
    "# plot figure\n",
    "plt.show()"
   ]
  },
  {
   "cell_type": "markdown",
   "metadata": {},
   "source": [
    "#### Excercise 3a\n",
    "\n",
    "Write a \n",
    "\n",
    "Write a a function `kmeans_clustering(data, K)` that runs the k-means algorithm on the data, and returns:\n",
    "- `centroid`: the cluster centres (their coordinated)\n",
    "- `distance`: the _within-cluster scatter_ of the returned clustering (sum of distances between all samples and their closest cluster centres)\n",
    "- `cluster_set`: a dictionary mapping each cluster label to a list of samples associated to that cluster\n",
    "\n",
    "(You can check that your implementation is correct in the **Excercise 3b**.)\n",
    "\n",
    "\n",
    "You are encouraged to try and write your own implementation from scratch. However, for the workshop, you can also use the `sklearn` implementation of k-means, from:\n",
    "`from sklearn.cluster import KMeans`"
   ]
  },
  {
   "cell_type": "code",
   "execution_count": 6,
   "metadata": {},
   "outputs": [],
   "source": [
    "from sklearn.cluster import KMeans\n",
    "import random\n",
    "import math"
   ]
  },
  {
   "cell_type": "code",
   "execution_count": 40,
   "metadata": {},
   "outputs": [],
   "source": [
    "# define kmeans clustering - using sklearn implementation\n",
    "def kmeans_clustering(data, K):\n",
    "    \n",
    "    # define the model\n",
    "    # (either all variables needed to run k-means -- e.g. initialise K cluster centres)\n",
    "    # (or load the model from sklearn and initialise it correctly)\n",
    "    clusters = []\n",
    "    for i in range(K):\n",
    "        clusters.append([\n",
    "            random.uniform(min(data[0]), max(data[0])),\n",
    "            random.uniform(min(data[1]), max(data[1]))\n",
    "        ])\n",
    "    \n",
    "    # fit the model to the data -- calculate the clustering\n",
    "    #cluster_map_iterations = []\n",
    "    counter = 0\n",
    "    #while(counter == 0 or counter == 1 or cluster_map_iterations[counter - 2] != cluster_map_iterations[counter - 1]):\n",
    "    cluster_map = {}\n",
    "    for index, sample in data.iterrows(): # for every sample\n",
    "        results = [] # will hold sample's distance to cluster centre\n",
    "        for i in range(len(clusters)): # for every cluster\n",
    "            results.append(((sample[0] - clusters[i][0])**2) + (sample[1] - clusters[i][1])**2) # save euclid distance\n",
    "        cluster_map[index] = np.argmin(results) # save closest cluster centre\n",
    "       # cluster_map_iterations.append(cluster_map)\n",
    "    \n",
    "    # assign the points to the cluster sets\n",
    "    # (note that this is not explicitly needed\n",
    "    # in the implementation of the algorithm!)\n",
    "    cluster_set = {}\n",
    "    \n",
    "    for index in cluster_map: ## loop through cluster map dict\n",
    "        cluster_set.setdefault(cluster_map[index],[]).append(index) # add index to cluster list\n",
    "    \n",
    "    # calculate the final within-cluster scatter: distance from\n",
    "    # closest each sample to closest (assigned) cluster centre\n",
    "    # (to get within-cluster scatter manually:\n",
    "    # go through different clusters in `cluster_set` and `centroid`s\n",
    "    # sum distance of every point in the cluster_set to it's centorid\n",
    "    # return the big sum of sums)\n",
    "    new_centroids = get_centroids(data, cluster_set)\n",
    "    print(new_centroids)\n",
    "        \n",
    "def get_centroids(data, cluster_set):\n",
    "    new_centroids = {}\n",
    "    for cluster_index in cluster_set:\n",
    "        total_x = 0\n",
    "        total_y = 0\n",
    "        for index in cluster_set[cluster_index]:\n",
    "            total_x = total_x + data.loc[index, 0]\n",
    "            total_y = total_y + data.loc[index, 1]\n",
    "        avg_x = total_x / len(cluster_set[cluster_index])\n",
    "        avg_y = total_y / len(cluster_set[cluster_index])\n",
    "        \n",
    "        new_centroids[cluster_index] = [avg_x,avg_y]\n",
    "    return new_centroids\n",
    "    \n",
    "            \n",
    "    #return centroid, distance, cluster_set\n",
    "    \n",
    "    ########## working on getting it all modularised so that I can call and call and repeat parts so it gets better :)"
   ]
  },
  {
   "cell_type": "markdown",
   "metadata": {},
   "source": [
    "#### Excercise 3b\n",
    "\n",
    "Run the above code with K=3 (the number of clusters determined visually in **Excercise 1**).\n",
    "\n",
    "Show a figure with the scatter plot of each of the clusters in a different colour, and also show the calculated cluster centres."
   ]
  },
  {
   "cell_type": "code",
   "execution_count": 42,
   "metadata": {},
   "outputs": [
    {
     "name": "stdout",
     "output_type": "stream",
     "text": [
      "{2: [1.2916616714444442, 1.1327782264583335], 0: [-0.2207299361369863, -0.07471364235616444], 1: [-0.024042686699999996, -0.6532210004999999]}\n"
     ]
    },
    {
     "data": {
      "image/png": "[encoded data removed]",
      "text/plain": [
       "<Figure size 432x288 with 1 Axes>"
      ]
     },
     "metadata": {
      "needs_background": "light"
     },
     "output_type": "display_data"
    }
   ],
   "source": [
    "# call k-means on the loaded data\n",
    "K = 3\n",
    "#centroid, distance, clusters_set = kmeans_clustering(data, K)\n",
    "kmeans_clustering(data, K)\n",
    "\n",
    "plt.scatter(data[0], data[1])\n",
    "\n",
    "# show plot\n",
    "plt.show()"
   ]
  },
  {
   "cell_type": "markdown",
   "metadata": {},
   "source": [
    "Sometimes k can't be determined visually from the data (or the data is too complex to visualise). However, we can visualise the aggregate distance over all the data.\n",
    "\n",
    "The **aggregate distance** or **within-cluster scatter** is equal to the sum of all data points to their centroid.\n",
    "\n",
    "Wite a code that would help you visually determined the number of clusters through examining the within-cluster scatter. First, write a function `evaluate_all_k(data, max_k)` which does the following:\n",
    "- varies the number of clusters k from 1 to `max_k`\n",
    "- applies k-means to the data for each different k\n",
    "- calculates the within-cluster scatter for each k (the `kmeans_clustering` function from **Excercise 3a** should already return this distance)\n",
    "- returns the list of within-cluster scatter values for all k from 1 to `max_k` (in which ever format works for you)\n",
    "\n",
    "Then, visualise the within-cluster scatter by plotting it against k until `max_k=10` for your data. Look for optimal k, where the sharp inclination stops on the curve (\"elbow\"). This should match the number of clusters visually identified in **Excercise 1**."
   ]
  },
  {
   "cell_type": "code",
   "execution_count": 30,
   "metadata": {},
   "outputs": [
    {
     "ename": "IndentationError",
     "evalue": "expected an indented block (<ipython-input-30-27ace1e397bb>, line 9)",
     "output_type": "error",
     "traceback": [
      "\u001b[1;36m  File \u001b[1;32m\"<ipython-input-30-27ace1e397bb>\"\u001b[1;36m, line \u001b[1;32m9\u001b[0m\n\u001b[1;33m    max_k = 10\u001b[0m\n\u001b[1;37m    ^\u001b[0m\n\u001b[1;31mIndentationError\u001b[0m\u001b[1;31m:\u001b[0m expected an indented block\n"
     ]
    }
   ],
   "source": [
    "# function to calculate the aggregate distance for a range of k\n",
    "def evaluate_all_k(data, max_k):\n",
    "    # ...\n",
    "    # insert code here\n",
    "    # ...\n",
    "    \n",
    "\n",
    "# calculate distance for k=1...10\n",
    "max_k = 10\n",
    "# .. insert your function call here (maybe you return some values?) ..\n",
    "# evaluate_all_k(data, max_k)\n",
    "\n",
    "# plot aggregate distance against k\n",
    "# ...\n",
    "# insert code here\n",
    "# ...\n",
    "\n",
    "\n",
    "# label the axis\n",
    "plt.xlabel('number of clusters k')\n",
    "plt.ylabel('within-cluster scatter W')\n",
    "\n",
    "# show plot\n",
    "plt.show()"
   ]
  },
  {
   "cell_type": "code",
   "execution_count": null,
   "metadata": {},
   "outputs": [],
   "source": []
  }
 ],
 "metadata": {
  "kernelspec": {
   "display_name": "Python 3 (ipykernel)",
   "language": "python",
   "name": "python3"
  },
  "language_info": {
   "codemirror_mode": {
    "name": "ipython",
    "version": 3
   },
   "file_extension": ".py",
   "mimetype": "text/x-python",
   "name": "python",
   "nbconvert_exporter": "python",
   "pygments_lexer": "ipython3",
   "version": "3.9.7"
  }
 },
 "nbformat": 4,
 "nbformat_minor": 4
}
