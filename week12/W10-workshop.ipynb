{
 "cells": [
  {
   "cell_type": "markdown",
   "metadata": {},
   "source": [
    "# Machine Learning Workshop: Week 10\n",
    "In this workshop, you will practise using PCA for data dimensionality reduction."
   ]
  },
  {
   "cell_type": "markdown",
   "metadata": {},
   "source": [
    "# Part 1: Principal Component Analysis (PCA)\n",
    "\n",
    "PCA is a dimension reduction tool that can be used to reduce a large set of variables to a small set that still contains most of the information in the original set. That sounds cool, you can reduce the features of your data but not retaining the most of the information needed. But if you have tried googling \"PCA\", you might know that it will give you back the result with all the difficult-sounding terms, such as \"Eigenvalue\", \"Eigenvector\", \"matrix projection\", etc.\n",
    "\n",
    "In this post, I will not go into too much detail of how PCA is actually calculated but will try to keep it to intuitive level, so that anyone who reads this can understand the underlying concept of it, and implement with Python.\n",
    "\n",
    "What PCA does is that it transforms the coordinate system so that the axis become the most concise, informative descriptors of our data as a whole.\n",
    "\n",
    "\n",
    "I found an explanation by Meng Xu's blog (see links below) really intuitive and helps a lot to understand the concept intuitively. \n",
    "\n",
    "http://mengnote.blogspot.co.uk/2013/05/an-intuitive-explanation-of-pca.html\n",
    "\n",
    "The shape you see in figure (A) is on 3 dimensions, but if we focus on the shape of data, not the axis, the shape itself is flat two-dimension surface. By running PCA, we find new coordinates for the data, which will best describe how the data is shaped. The first Principal Component is one that explains the most variance in the data. In figure (B), we see that by drawing the line \"Component 1\", it is able to retain the information of the most dispersed points of data. And by adding the line \"Component 2\", this \"Component 2\" line explains the second most variance in our data. The next step is to transform the original data onto our new found axis which is just two instead of original three dimensions. The final result in figure (C) gives us a pretty good picture of how the data is shaped only with two dimensions even though we have discarded the third dimension.\n",
    "\n",
    "\n",
    "\n",
    "    \n",
    "And eigenvectors and eigenvalues are used when implementing this transformation of the data. An eigenvector specifies a direction through the original coordinate space, while eigenvalues indicate the amount of variance in the direction of its corresponding eigenvector.\n",
    "\n",
    "If you want to dive deeper into the concept of PCA, there are some more blog posts I found useful.\n",
    "- A blog post by Victor Powell: \"Principal Component Analysis\" (You can manipulate and play around with data points in 2d or 3d that will help you enormously to have an intuitive understanding of what PCA does)\n",
    "http://setosa.io/ev/principal-component-analysis/\n",
    "- A blog post by George Dallas: \"Principal Component Analysis 4 Dummies: Eigenvectors, Eigenvalues and Dimension Reduction\" (he has successfully explained the concept without a single math formula, unbelievable)\n",
    "https://georgemdallas.wordpress.com/2013/10/30/principal-component-analysis-4-dummies-eigenvectors-eigenvalues-and-dimension-reduction/"
   ]
  },
  {
   "cell_type": "markdown",
   "metadata": {},
   "source": [
    "#### Summarizing the PCA approach\n",
    "Listed below are the 6 general steps for performing a principal component analysis, which we will investigate in the following sections.\n",
    "\n",
    "1, Take the whole dataset consisting of $d$-dimensional samples ignoring the class labels\n",
    "\n",
    "2, Compute the $d$-dimensional mean vector (i.e., the means for every dimension of the whole dataset)\n",
    "\n",
    "3, Compute the scatter matrix (alternatively, the covariance matrix) of the whole data set\n",
    "\n",
    "4, Compute eigenvectors ($\\pmb e_1, \\; \\pmb e_2, \\; ..., \\; \\pmb e_d $) and corresponding eigenvalues ($\\pmb \\lambda_1, \\; \\pmb \\lambda_2, \\; ..., \\; \\pmb \\lambda_d$)\n",
    "\n",
    "5, Sort the eigenvectors by decreasing eigenvalues and choose $k$ eigenvectors with the largest eigenvalues to form a $d \\times k $ dimensional matrix $\\pmb W\\;$(where every column represents an eigenvector)\n",
    "\n",
    "6, Use this $d \\times k $ eigenvector matrix to transform the samples onto the new subspace. This can be summarized by the mathematical equation: $\\pmb y = \\pmb W^T \\times \\pmb x$ (where $\\pmb x$ is a $d \\times 1$-dimensional vector representing one sample, and $\\pmb y$ is the transformed $k \\times 1$-dimensional sample in the new subspace.)"
   ]
  },
  {
   "cell_type": "markdown",
   "metadata": {},
   "source": [
    "\n"
   ]
  },
  {
   "cell_type": "markdown",
   "metadata": {},
   "source": [
    "We will be using the Wine dataset from The UCI Machine Learning Repository in our example. This dataset consists of 178 wine samples with 13 features describing their different chemical properties. You can find out more here.\n",
    "\n",
    "In this section we will tackle the first four steps of a PCA; later we will go over the last three. We will start by loading the Wine dataset directly from the repository:"
   ]
  },
  {
   "cell_type": "code",
   "execution_count": 1,
   "metadata": {
    "scrolled": true
   },
   "outputs": [
    {
     "data": {
      "text/html": [
       "<div>\n",
       "<style scoped>\n",
       "    .dataframe tbody tr th:only-of-type {\n",
       "        vertical-align: middle;\n",
       "    }\n",
       "\n",
       "    .dataframe tbody tr th {\n",
       "        vertical-align: top;\n",
       "    }\n",
       "\n",
       "    .dataframe thead th {\n",
       "        text-align: right;\n",
       "    }\n",
       "</style>\n",
       "<table border=\"1\" class=\"dataframe\">\n",
       "  <thead>\n",
       "    <tr style=\"text-align: right;\">\n",
       "      <th></th>\n",
       "      <th>0</th>\n",
       "      <th>1</th>\n",
       "      <th>2</th>\n",
       "      <th>3</th>\n",
       "      <th>4</th>\n",
       "      <th>5</th>\n",
       "      <th>6</th>\n",
       "      <th>7</th>\n",
       "      <th>8</th>\n",
       "      <th>9</th>\n",
       "      <th>10</th>\n",
       "      <th>11</th>\n",
       "      <th>12</th>\n",
       "      <th>13</th>\n",
       "    </tr>\n",
       "  </thead>\n",
       "  <tbody>\n",
       "    <tr>\n",
       "      <td>0</td>\n",
       "      <td>1</td>\n",
       "      <td>14.23</td>\n",
       "      <td>1.71</td>\n",
       "      <td>2.43</td>\n",
       "      <td>15.6</td>\n",
       "      <td>127</td>\n",
       "      <td>2.80</td>\n",
       "      <td>3.06</td>\n",
       "      <td>0.28</td>\n",
       "      <td>2.29</td>\n",
       "      <td>5.64</td>\n",
       "      <td>1.04</td>\n",
       "      <td>3.92</td>\n",
       "      <td>1065</td>\n",
       "    </tr>\n",
       "    <tr>\n",
       "      <td>1</td>\n",
       "      <td>1</td>\n",
       "      <td>13.20</td>\n",
       "      <td>1.78</td>\n",
       "      <td>2.14</td>\n",
       "      <td>11.2</td>\n",
       "      <td>100</td>\n",
       "      <td>2.65</td>\n",
       "      <td>2.76</td>\n",
       "      <td>0.26</td>\n",
       "      <td>1.28</td>\n",
       "      <td>4.38</td>\n",
       "      <td>1.05</td>\n",
       "      <td>3.40</td>\n",
       "      <td>1050</td>\n",
       "    </tr>\n",
       "    <tr>\n",
       "      <td>2</td>\n",
       "      <td>1</td>\n",
       "      <td>13.16</td>\n",
       "      <td>2.36</td>\n",
       "      <td>2.67</td>\n",
       "      <td>18.6</td>\n",
       "      <td>101</td>\n",
       "      <td>2.80</td>\n",
       "      <td>3.24</td>\n",
       "      <td>0.30</td>\n",
       "      <td>2.81</td>\n",
       "      <td>5.68</td>\n",
       "      <td>1.03</td>\n",
       "      <td>3.17</td>\n",
       "      <td>1185</td>\n",
       "    </tr>\n",
       "    <tr>\n",
       "      <td>3</td>\n",
       "      <td>1</td>\n",
       "      <td>14.37</td>\n",
       "      <td>1.95</td>\n",
       "      <td>2.50</td>\n",
       "      <td>16.8</td>\n",
       "      <td>113</td>\n",
       "      <td>3.85</td>\n",
       "      <td>3.49</td>\n",
       "      <td>0.24</td>\n",
       "      <td>2.18</td>\n",
       "      <td>7.80</td>\n",
       "      <td>0.86</td>\n",
       "      <td>3.45</td>\n",
       "      <td>1480</td>\n",
       "    </tr>\n",
       "    <tr>\n",
       "      <td>4</td>\n",
       "      <td>1</td>\n",
       "      <td>13.24</td>\n",
       "      <td>2.59</td>\n",
       "      <td>2.87</td>\n",
       "      <td>21.0</td>\n",
       "      <td>118</td>\n",
       "      <td>2.80</td>\n",
       "      <td>2.69</td>\n",
       "      <td>0.39</td>\n",
       "      <td>1.82</td>\n",
       "      <td>4.32</td>\n",
       "      <td>1.04</td>\n",
       "      <td>2.93</td>\n",
       "      <td>735</td>\n",
       "    </tr>\n",
       "  </tbody>\n",
       "</table>\n",
       "</div>"
      ],
      "text/plain": [
       "   0      1     2     3     4    5     6     7     8     9     10    11    12  \\\n",
       "0   1  14.23  1.71  2.43  15.6  127  2.80  3.06  0.28  2.29  5.64  1.04  3.92   \n",
       "1   1  13.20  1.78  2.14  11.2  100  2.65  2.76  0.26  1.28  4.38  1.05  3.40   \n",
       "2   1  13.16  2.36  2.67  18.6  101  2.80  3.24  0.30  2.81  5.68  1.03  3.17   \n",
       "3   1  14.37  1.95  2.50  16.8  113  3.85  3.49  0.24  2.18  7.80  0.86  3.45   \n",
       "4   1  13.24  2.59  2.87  21.0  118  2.80  2.69  0.39  1.82  4.32  1.04  2.93   \n",
       "\n",
       "     13  \n",
       "0  1065  \n",
       "1  1050  \n",
       "2  1185  \n",
       "3  1480  \n",
       "4   735  "
      ]
     },
     "execution_count": 1,
     "metadata": {},
     "output_type": "execute_result"
    }
   ],
   "source": [
    "import pandas as pd\n",
    "\n",
    "df_wine = pd.read_csv('https://archive.ics.uci.edu/ml/'\n",
    "                      'machine-learning-databases/wine/wine.data',\n",
    "                      header=None)\n",
    "df_wine.head()"
   ]
  },
  {
   "cell_type": "markdown",
   "metadata": {},
   "source": [
    "Next, we will process the Wine data into separate training and test sets — using a 70:30 split — and standardize it to unit variance. Feature scaling through standardization (or Z-score normalization) can be an important preprocessing step for many machine learning algorithms. Standardization involves rescaling the features such that they have the properties of a standard normal distribution with a mean of zero and a standard deviation of one. See more explanations in the link\n",
    "https://scikit-learn.org/stable/auto_examples/preprocessing/plot_scaling_importance.html"
   ]
  },
  {
   "cell_type": "code",
   "execution_count": 2,
   "metadata": {},
   "outputs": [],
   "source": [
    "from sklearn.model_selection import train_test_split\n",
    "from sklearn.preprocessing import StandardScaler\n",
    "\n",
    "# split into training and testing sets\n",
    "X, y = df_wine.iloc[:, 1:].values, df_wine.iloc[:, 0].values\n",
    "X_train, X_test, y_train, y_test = train_test_split(\n",
    "    X, y, test_size=0.3,\n",
    "    stratify=y, random_state=0\n",
    ")\n",
    "# standardize the features\n",
    "sc = StandardScaler()\n",
    "X_train_std = sc.fit_transform(X_train)\n",
    "X_test_std = sc.transform(X_test)"
   ]
  },
  {
   "cell_type": "markdown",
   "metadata": {},
   "source": [
    "After completing the mandatory preprocessing, let’s advance to the second step: constructing the covariance matrix. The symmetric d x d-dimensional covariance matrix, where d is the number of dimensions in the dataset, stores the pairwise covariances between the different features. For example, the covariance between two features $x_j$ and $x_k$ on the population level can be calculated via the following equation:\n",
    "\n",
    " $\\quad\\pmb{\\sigma_{jk}} = $ $\\frac{1}{n}\\sum_i^j (x_j^{(i)}-u_j)(x_k^{(i)}-u_k)\\quad$\n",
    " \n",
    "Here, $u_j$ and $u_k$ are the sample means of features j and k, respectively.\n",
    "\n",
    "Note that the sample means are zero if we standardized the dataset. A positive covariance between two features indicates that the features increase or decrease together, whereas a negative covariance indicates that the features vary in opposite directions. For example, the covariance matrix of three features can then be written as follows (note that Σ stands for the Greek uppercase letter sigma, which is not to be confused with the sum symbol):\n",
    "\n",
    " $\\quad\\pmb{\\Sigma} = $\n",
    " $\\begin{bmatrix}\\sigma_1^2\\quad \\sigma_{12}\\quad \\sigma_{13}\\\\\\sigma_{21}\\quad \\sigma_2^2\\quad\\sigma_{23}\\\\\\sigma_{31}\\quad\\sigma_{32}\\quad \\sigma_3^2\\end{bmatrix}\\quad$ (covariance matrices)\n",
    " \n",
    " The eigenvectors of the covariance matrix represent the principal components (the directions of maximum variance), whereas the corresponding eigenvalues will define their magnitude. In the case of the Wine dataset, we would obtain 13 eigenvectors and eigenvalues from the 13 x 13-dimensional covariance matrix.\n",
    "\n",
    "Now, for our third step, let’s obtain the eigenpairs of the covariance matrix. An eigenvector v satisfies the following condition:\n",
    "\n",
    "   $\\quad \\Sigma v =\\lambda v$\n",
    "\n",
    "Here, λ is a scalar: the eigenvalue. Since the manual computation of eigenvectors and eigenvalues is a somewhat tedious and elaborate task, we will use the linalg.eig function from NumPy to obtain the eigenpairs of the Wine covariance matrix:"
   ]
  },
  {
   "cell_type": "code",
   "execution_count": 3,
   "metadata": {},
   "outputs": [],
   "source": [
    "import numpy as np\n",
    "\n",
    "cov_mat = np.cov(X_train_std.T)\n",
    "eigen_vals, eigen_vecs = np.linalg.eig(cov_mat)"
   ]
  },
  {
   "cell_type": "markdown",
   "metadata": {},
   "source": [
    "Using the numpy.cov function, we computed the covariance matrix of the standardized training dataset. Using the linalg.eig function, we performed the eigendecomposition, which yielded a vector (eigen_vals) consisting of 13 eigenvalues and the corresponding eigenvectors stored as columns in a 13 x 13-dimensional matrix (eigen_vecs)."
   ]
  },
  {
   "cell_type": "markdown",
   "metadata": {},
   "source": [
    "#### Total and Explained Variance\n",
    "\n",
    "Since we want to reduce the dimensionality of our dataset by compressing it onto a new feature subspace, we only select the subset of the eigenvectors (principal components) that contains most of the information (variance). The eigenvalues define the magnitude of the eigenvectors, so we have to sort the eigenvalues by decreasing magnitude; we are interested in the top k eigenvectors based on the values of their corresponding eigenvalues.\n",
    "\n",
    "But before we collect those k most informative eigenvectors, let’s plot the variance explained ratios of the eigenvalues. The variance explained ratio of an eigenvalue $\\lambda_j$ is simply the fraction of an eigenvalue $\\lambda_j$ and the total sum of the eigenvalues:\n",
    "\n",
    "$\\frac{\\lambda_j}{\\sum_{j=1}^d \\lambda_j}$\n",
    "\n",
    "Using the NumPy cumsum function, we can then calculate the cumulative sum of explained variances, which we will then plot via matplotlib’s step function:"
   ]
  },
  {
   "cell_type": "code",
   "execution_count": 4,
   "metadata": {},
   "outputs": [
    {
     "data": {
      "text/plain": [
       "<Figure size 640x480 with 1 Axes>"
      ]
     },
     "metadata": {},
     "output_type": "display_data"
    }
   ],
   "source": [
    "import matplotlib.pyplot as plt\n",
    "\n",
    "# calculate cumulative sum of explained variances\n",
    "tot = sum(eigen_vals)\n",
    "var_exp = [(i / tot) for i in sorted(eigen_vals, reverse=True)]\n",
    "cum_var_exp = np.cumsum(var_exp)\n",
    "\n",
    "# plot explained variances\n",
    "plt.bar(range(1,14), var_exp, alpha=0.5,\n",
    "        align='center', label='individual explained variance')\n",
    "plt.step(range(1,14), cum_var_exp, where='mid',\n",
    "         label='cumulative explained variance')\n",
    "plt.ylabel('Explained variance ratio')\n",
    "plt.xlabel('Principal component index')\n",
    "plt.legend(loc='best')\n",
    "plt.show()"
   ]
  },
  {
   "cell_type": "markdown",
   "metadata": {},
   "source": [
    "The resulting plot indicates that the first principal component alone accounts for approximately 40% of the variance. Also, we can see that the first two principal components combined explain almost 60% of the variance in the dataset."
   ]
  },
  {
   "cell_type": "markdown",
   "metadata": {},
   "source": [
    "#### Feature Transformation\n",
    "\n",
    "After we have successfully decomposed the covariance matrix into eigenpairs, let’s now proceed with the last three steps of PCA to transform the Wine dataset onto the new principal component axes.\n",
    "\n",
    "We will sort the eigenpairs by descending order of the eigenvalues, construct a projection matrix from the selected eigenvectors, and use the projection matrix to transform the data onto the lower-dimensional subspace.\n",
    "\n",
    "We start by sorting the eigenpairs by decreasing order of the eigenvalues:"
   ]
  },
  {
   "cell_type": "code",
   "execution_count": 5,
   "metadata": {},
   "outputs": [],
   "source": [
    "# Make a list of (eigenvalue, eigenvector) tuples\n",
    "eigen_pairs = [(np.abs(eigen_vals[i]), eigen_vecs[:, i]) for i in range(len(eigen_vals))]\n",
    "\n",
    "# Sort the (eigenvalue, eigenvector) tuples from high to low\n",
    "eigen_pairs.sort(key=lambda k: k[0], reverse=True)"
   ]
  },
  {
   "cell_type": "markdown",
   "metadata": {},
   "source": [
    "Next, we collect the two eigenvectors that correspond to the two largest eigenvalues, to capture about 60% of the variance in this dataset. Note that we only chose two eigenvectors for the purpose of illustration, since we are going to plot the data via a two-dimensional scatter plot later in this subsection. In practice, the number of principal components has to be determined by a trade-off between computational efficiency and the performance of the classifier:"
   ]
  },
  {
   "cell_type": "code",
   "execution_count": 6,
   "metadata": {},
   "outputs": [
    {
     "name": "stdout",
     "output_type": "stream",
     "text": [
      "Matrix W:\n",
      " [[-0.13724218  0.50303478]\n",
      " [ 0.24724326  0.16487119]\n",
      " [-0.02545159  0.24456476]\n",
      " [ 0.20694508 -0.11352904]\n",
      " [-0.15436582  0.28974518]\n",
      " [-0.39376952  0.05080104]\n",
      " [-0.41735106 -0.02287338]\n",
      " [ 0.30572896  0.09048885]\n",
      " [-0.30668347  0.00835233]\n",
      " [ 0.07554066  0.54977581]\n",
      " [-0.32613263 -0.20716433]\n",
      " [-0.36861022 -0.24902536]\n",
      " [-0.29669651  0.38022942]]\n"
     ]
    }
   ],
   "source": [
    "w = np.hstack((eigen_pairs[0][1][:, np.newaxis], eigen_pairs[1][1][:, np.newaxis]))\n",
    "print('Matrix W:\\n', w)"
   ]
  },
  {
   "cell_type": "markdown",
   "metadata": {},
   "source": [
    "By executing the preceding code, we have created a 13 x 2-dimensional projection matrix W from the top two eigenvectors.\n",
    "\n",
    "Using the projection matrix, we can now transform a sample x (represented as a 1 x 13-dimensional row vector) onto the PCA subspace (the principal components one and two) obtaining x′, now a two-dimensional sample vector consisting of two new features:\n",
    "\n",
    "$x'=W^Tx$"
   ]
  },
  {
   "cell_type": "code",
   "execution_count": 7,
   "metadata": {},
   "outputs": [],
   "source": [
    "X_train_pca = X_train_std.dot(w)"
   ]
  },
  {
   "cell_type": "markdown",
   "metadata": {},
   "source": [
    "Lastly, let’s visualize the transformed Wine training set, now stored as an 124 x 2-dimensional matrix, in a two-dimensional scatterplot:"
   ]
  },
  {
   "cell_type": "code",
   "execution_count": 8,
   "metadata": {},
   "outputs": [
    {
     "data": {
      "image/png": "[encoded data removed]",
      "text/plain": [
       "<Figure size 432x288 with 1 Axes>"
      ]
     },
     "metadata": {
      "needs_background": "light"
     },
     "output_type": "display_data"
    }
   ],
   "source": [
    "colors = ['r', 'b', 'g']\n",
    "markers = ['s', 'x', 'o']\n",
    "for l, c, m in zip(np.unique(y_train), colors, markers):\n",
    "    plt.scatter(X_train_pca[y_train==l, 0], \n",
    "                X_train_pca[y_train==l, 1], \n",
    "                c=c, label=l, marker=m) \n",
    "plt.xlabel('PC 1')\n",
    "plt.ylabel('PC 2')\n",
    "plt.legend(loc='lower left')\n",
    "plt.show()"
   ]
  },
  {
   "cell_type": "markdown",
   "metadata": {},
   "source": [
    "As we can see in the resulting plot, the data is more spread along the x-axis — the first principal component — than the second principal component (y-axis), which is consistent with the explained variance ratio plot that we created previously. However, we can intuitively see that a linear classifier will likely be able to separate the classes well.\n",
    "\n",
    "Although we encoded the class label information for the purpose of illustration in the preceding scatter plot, we have to keep in mind that PCA is an unsupervised technique that does not use any class label information."
   ]
  },
  {
   "cell_type": "markdown",
   "metadata": {},
   "source": [
    "#### PCA in scikit-learn\n",
    "\n",
    "Although the verbose approach in the previous subsection helped us to follow the inner workings of PCA, we will now discuss how to use the PCA class implemented in scikit-learn. The PCA class is another one of scikit-learn’s transformer classes, where we first fit the model using the training data before we transform both the training data and the test dataset using the same model parameters.\n",
    "\n",
    "Let’s use the PCA class on the Wine training dataset, classify the transformed samples via logistic regression:"
   ]
  },
  {
   "cell_type": "code",
   "execution_count": 9,
   "metadata": {},
   "outputs": [
    {
     "data": {
      "text/plain": [
       "LogisticRegression(C=1.0, class_weight=None, dual=False, fit_intercept=True,\n",
       "                   intercept_scaling=1, l1_ratio=None, max_iter=100,\n",
       "                   multi_class='auto', n_jobs=None, penalty='l2',\n",
       "                   random_state=None, solver='liblinear', tol=0.0001, verbose=0,\n",
       "                   warm_start=False)"
      ]
     },
     "execution_count": 9,
     "metadata": {},
     "output_type": "execute_result"
    }
   ],
   "source": [
    "from sklearn.linear_model import LogisticRegression\n",
    "from sklearn.decomposition import PCA\n",
    "\n",
    "# intialize pca and logistic regression model\n",
    "pca = PCA(n_components=2)\n",
    "lr = LogisticRegression(multi_class='auto', solver='liblinear')\n",
    "\n",
    "# fit and transform data\n",
    "X_train_pca = pca.fit_transform(X_train_std)\n",
    "X_test_pca = pca.transform(X_test_std)\n",
    "lr.fit(X_train_pca, y_train)"
   ]
  },
  {
   "cell_type": "markdown",
   "metadata": {},
   "source": [
    "Now, using a custom plot_decision_regions function, we will visualize the decision regions:"
   ]
  },
  {
   "cell_type": "code",
   "execution_count": 10,
   "metadata": {},
   "outputs": [
    {
     "data": {
      "image/png": "[encoded data removed]",
      "text/plain": [
       "<Figure size 432x288 with 1 Axes>"
      ]
     },
     "metadata": {
      "needs_background": "light"
     },
     "output_type": "display_data"
    }
   ],
   "source": [
    "from matplotlib.colors import ListedColormap\n",
    "\n",
    "def plot_decision_regions(X, y, classifier, resolution=0.02):\n",
    "    # setup marker generator and color map\n",
    "    markers = ('s', 'x', 'o', '^', 'v')\n",
    "    colors = ('red', 'blue', 'lightgreen', 'gray', 'cyan')\n",
    "    cmap = ListedColormap(colors[:len(np.unique(y))])\n",
    "\n",
    "    # plot the decision surface\n",
    "    x1_min, x1_max = X[:, 0].min() - 1, X[:, 0].max() + 1\n",
    "    x2_min, x2_max = X[:, 1].min() - 1, X[:, 1].max() + 1\n",
    "    xx1, xx2 = np.meshgrid(np.arange(x1_min, x1_max, resolution),\n",
    "                           np.arange(x2_min, x2_max, resolution))\n",
    "    Z = classifier.predict(np.array([xx1.ravel(), xx2.ravel()]).T)\n",
    "    Z = Z.reshape(xx1.shape)\n",
    "    plt.contourf(xx1, xx2, Z, alpha=0.4, cmap=cmap)\n",
    "    plt.xlim(xx1.min(), xx1.max())\n",
    "    plt.ylim(xx2.min(), xx2.max())\n",
    "\n",
    "    # plot class samples\n",
    "    for idx, cl in enumerate(np.unique(y)):\n",
    "        plt.scatter(x=X[y == cl, 0], \n",
    "                    y=X[y == cl, 1],\n",
    "                    alpha=0.6, \n",
    "                    c=[cmap(idx)],\n",
    "                    edgecolor='black',\n",
    "                    marker=markers[idx], \n",
    "                    label=cl)# plot decision regions for training set\n",
    "\n",
    "\n",
    "plot_decision_regions(X_train_pca, y_train, classifier=lr)\n",
    "plt.xlabel('PC 1')\n",
    "plt.ylabel('PC 2')\n",
    "plt.legend(loc='lower left')\n",
    "plt.show()"
   ]
  },
  {
   "cell_type": "markdown",
   "metadata": {},
   "source": [
    "By executing the preceding code, we should now see the decision regions for the training data reduced to two principal component axes.\n",
    "\n",
    "For the sake of completeness, let’s plot the decision regions of the logistic regression on the transformed test dataset as well to see if it can separate the classes well:"
   ]
  },
  {
   "cell_type": "code",
   "execution_count": 11,
   "metadata": {},
   "outputs": [
    {
     "data": {
      "image/png": "[encoded data removed]",
      "text/plain": [
       "<Figure size 432x288 with 1 Axes>"
      ]
     },
     "metadata": {
      "needs_background": "light"
     },
     "output_type": "display_data"
    }
   ],
   "source": [
    "# plot decision regions for test set\n",
    "plot_decision_regions(X_test_pca, y_test, classifier=lr)\n",
    "plt.xlabel('PC1')\n",
    "plt.ylabel('PC2')\n",
    "plt.legend(loc='lower left')\n",
    "plt.show()"
   ]
  },
  {
   "cell_type": "markdown",
   "metadata": {},
   "source": [
    "After we plotted the decision regions for the test set by executing the preceding code, we can see that logistic regression performs quite well on this small two-dimensional feature subspace and only misclassifies very few samples in the test dataset.\n",
    "\n",
    "If we are interested in the explained variance ratios of the different principal components, we can simply initialize the PCA class with the n_components parameter set to None, so all principal components are kept and the explained variance ratio can then be accessed via the explained_variance_ratio_ attribute:"
   ]
  },
  {
   "cell_type": "code",
   "execution_count": 12,
   "metadata": {},
   "outputs": [
    {
     "data": {
      "text/plain": [
       "array([0.36951469, 0.18434927, 0.11815159, 0.07334252, 0.06422108,\n",
       "       0.05051724, 0.03954654, 0.02643918, 0.02389319, 0.01629614,\n",
       "       0.01380021, 0.01172226, 0.00820609])"
      ]
     },
     "execution_count": 12,
     "metadata": {},
     "output_type": "execute_result"
    }
   ],
   "source": [
    "pca = PCA(n_components=None)\n",
    "X_train_pca = pca.fit_transform(X_train_std)\n",
    "pca.explained_variance_ratio_"
   ]
  },
  {
   "cell_type": "markdown",
   "metadata": {},
   "source": [
    "Note that we set n_components=None when we initialized the PCA class so that it will return all principal components in a sorted order instead of performing a dimensionality reduction."
   ]
  },
  {
   "cell_type": "code",
   "execution_count": null,
   "metadata": {},
   "outputs": [],
   "source": []
  },
  {
   "cell_type": "markdown",
   "metadata": {},
   "source": [
    "## Exercise 1: PCA for  USDA National Nutrient Dataset\n",
    "\n",
    "Your task is to execute PCA on a dataset derived from the USDA National Nutrient Database. The dataset can be downloaded from blackboard. Your task involves the following steps: \n",
    "\n",
    "1, load the dataset\n",
    "\n",
    "2, remove highly correlated features (we have done this for you)\n",
    "\n",
    "3, normalise the dataset \n",
    "\n",
    "4, apply PCA on the dataset\n",
    "\n",
    "5, find most important components\n",
    "\n",
    "6, try to interpret the first 5 most important compenents"
   ]
  },
  {
   "cell_type": "code",
   "execution_count": 13,
   "metadata": {},
   "outputs": [],
   "source": [
    "import pandas as pd\n",
    "import numpy as np\n",
    "from sklearn.decomposition import PCA\n",
    "from sklearn.preprocessing import StandardScaler\n",
    "import matplotlib.pyplot as plt"
   ]
  },
  {
   "cell_type": "code",
   "execution_count": 15,
   "metadata": {
    "scrolled": false
   },
   "outputs": [
    {
     "name": "stdout",
     "output_type": "stream",
     "text": [
      "<class 'pandas.core.frame.DataFrame'>\n",
      "RangeIndex: 8618 entries, 0 to 8617\n",
      "Data columns (total 45 columns):\n",
      "ID                  8618 non-null int64\n",
      "FoodGroup           8618 non-null object\n",
      "ShortDescrip        8618 non-null object\n",
      "Descrip             8618 non-null object\n",
      "CommonName          1063 non-null object\n",
      "MfgName             1560 non-null object\n",
      "ScientificName      732 non-null object\n",
      "Energy_kcal         8618 non-null float64\n",
      "Protein_g           8618 non-null float64\n",
      "Fat_g               8618 non-null float64\n",
      "Carb_g              8618 non-null float64\n",
      "Sugar_g             8618 non-null float64\n",
      "Fiber_g             8618 non-null float64\n",
      "VitA_mcg            8618 non-null float64\n",
      "VitB6_mg            8618 non-null float64\n",
      "VitB12_mcg          8618 non-null float64\n",
      "VitC_mg             8618 non-null float64\n",
      "VitE_mg             8618 non-null float64\n",
      "Folate_mcg          8618 non-null float64\n",
      "Niacin_mg           8618 non-null float64\n",
      "Riboflavin_mg       8618 non-null float64\n",
      "Thiamin_mg          8618 non-null float64\n",
      "Calcium_mg          8618 non-null float64\n",
      "Copper_mcg          8618 non-null float64\n",
      "Iron_mg             8618 non-null float64\n",
      "Magnesium_mg        8618 non-null float64\n",
      "Manganese_mg        8618 non-null float64\n",
      "Phosphorus_mg       8618 non-null float64\n",
      "Selenium_mcg        8618 non-null float64\n",
      "Zinc_mg             8618 non-null float64\n",
      "VitA_USRDA          8618 non-null float64\n",
      "VitB6_USRDA         8618 non-null float64\n",
      "VitB12_USRDA        8618 non-null float64\n",
      "VitC_USRDA          8618 non-null float64\n",
      "VitE_USRDA          8618 non-null float64\n",
      "Folate_USRDA        8618 non-null float64\n",
      "Niacin_USRDA        8618 non-null float64\n",
      "Riboflavin_USRDA    8618 non-null float64\n",
      "Thiamin_USRDA       8618 non-null float64\n",
      "Calcium_USRDA       8618 non-null float64\n",
      "Copper_USRDA        8618 non-null float64\n",
      "Magnesium_USRDA     8618 non-null float64\n",
      "Phosphorus_USRDA    8618 non-null float64\n",
      "Selenium_USRDA      8618 non-null float64\n",
      "Zinc_USRDA          8618 non-null float64\n",
      "dtypes: float64(38), int64(1), object(6)\n",
      "memory usage: 3.0+ MB\n"
     ]
    }
   ],
   "source": [
    "csv = \"nndb_flat.csv\"\n",
    "\n",
    "df = pd.read_csv(csv)\n",
    "df.head()\n",
    "df.info()"
   ]
  },
  {
   "cell_type": "markdown",
   "metadata": {},
   "source": [
    "#### Check for highly correlated features\n",
    "\n",
    "You can use the corr method in Pandas dataframe to perform pairwise correlation of columns, columns that are highly correlated (correlation >0.9) should be removed. The following code helps you to identify the highly correlated features"
   ]
  },
  {
   "cell_type": "code",
   "execution_count": 16,
   "metadata": {
    "scrolled": false
   },
   "outputs": [
    {
     "data": {
      "text/html": [
       "<div>\n",
       "<style scoped>\n",
       "    .dataframe tbody tr th:only-of-type {\n",
       "        vertical-align: middle;\n",
       "    }\n",
       "\n",
       "    .dataframe tbody tr th {\n",
       "        vertical-align: top;\n",
       "    }\n",
       "\n",
       "    .dataframe thead th {\n",
       "        text-align: right;\n",
       "    }\n",
       "</style>\n",
       "<table border=\"1\" class=\"dataframe\">\n",
       "  <thead>\n",
       "    <tr style=\"text-align: right;\">\n",
       "      <th></th>\n",
       "      <th>column</th>\n",
       "      <th>row</th>\n",
       "      <th>corr</th>\n",
       "    </tr>\n",
       "  </thead>\n",
       "  <tbody>\n",
       "    <tr>\n",
       "      <td>0</td>\n",
       "      <td>VitA_mcg</td>\n",
       "      <td>VitA_USRDA</td>\n",
       "      <td>1</td>\n",
       "    </tr>\n",
       "    <tr>\n",
       "      <td>1</td>\n",
       "      <td>VitB6_mg</td>\n",
       "      <td>VitB6_USRDA</td>\n",
       "      <td>1</td>\n",
       "    </tr>\n",
       "    <tr>\n",
       "      <td>2</td>\n",
       "      <td>VitB12_mcg</td>\n",
       "      <td>VitB12_USRDA</td>\n",
       "      <td>1</td>\n",
       "    </tr>\n",
       "    <tr>\n",
       "      <td>3</td>\n",
       "      <td>VitC_mg</td>\n",
       "      <td>VitC_USRDA</td>\n",
       "      <td>1</td>\n",
       "    </tr>\n",
       "    <tr>\n",
       "      <td>4</td>\n",
       "      <td>VitE_mg</td>\n",
       "      <td>VitE_USRDA</td>\n",
       "      <td>1</td>\n",
       "    </tr>\n",
       "    <tr>\n",
       "      <td>5</td>\n",
       "      <td>Folate_mcg</td>\n",
       "      <td>Folate_USRDA</td>\n",
       "      <td>1</td>\n",
       "    </tr>\n",
       "    <tr>\n",
       "      <td>6</td>\n",
       "      <td>Niacin_mg</td>\n",
       "      <td>Niacin_USRDA</td>\n",
       "      <td>1</td>\n",
       "    </tr>\n",
       "    <tr>\n",
       "      <td>7</td>\n",
       "      <td>Riboflavin_mg</td>\n",
       "      <td>Riboflavin_USRDA</td>\n",
       "      <td>1</td>\n",
       "    </tr>\n",
       "    <tr>\n",
       "      <td>8</td>\n",
       "      <td>Thiamin_mg</td>\n",
       "      <td>Thiamin_USRDA</td>\n",
       "      <td>1</td>\n",
       "    </tr>\n",
       "    <tr>\n",
       "      <td>9</td>\n",
       "      <td>Calcium_mg</td>\n",
       "      <td>Calcium_USRDA</td>\n",
       "      <td>1</td>\n",
       "    </tr>\n",
       "    <tr>\n",
       "      <td>10</td>\n",
       "      <td>Copper_mcg</td>\n",
       "      <td>Copper_USRDA</td>\n",
       "      <td>1</td>\n",
       "    </tr>\n",
       "    <tr>\n",
       "      <td>11</td>\n",
       "      <td>Magnesium_mg</td>\n",
       "      <td>Magnesium_USRDA</td>\n",
       "      <td>1</td>\n",
       "    </tr>\n",
       "    <tr>\n",
       "      <td>12</td>\n",
       "      <td>Phosphorus_mg</td>\n",
       "      <td>Phosphorus_USRDA</td>\n",
       "      <td>1</td>\n",
       "    </tr>\n",
       "    <tr>\n",
       "      <td>13</td>\n",
       "      <td>Selenium_mcg</td>\n",
       "      <td>Selenium_USRDA</td>\n",
       "      <td>1</td>\n",
       "    </tr>\n",
       "    <tr>\n",
       "      <td>14</td>\n",
       "      <td>Zinc_mg</td>\n",
       "      <td>Zinc_USRDA</td>\n",
       "      <td>1</td>\n",
       "    </tr>\n",
       "  </tbody>\n",
       "</table>\n",
       "</div>"
      ],
      "text/plain": [
       "           column               row corr\n",
       "0        VitA_mcg        VitA_USRDA    1\n",
       "1        VitB6_mg       VitB6_USRDA    1\n",
       "2      VitB12_mcg      VitB12_USRDA    1\n",
       "3         VitC_mg        VitC_USRDA    1\n",
       "4         VitE_mg        VitE_USRDA    1\n",
       "5      Folate_mcg      Folate_USRDA    1\n",
       "6       Niacin_mg      Niacin_USRDA    1\n",
       "7   Riboflavin_mg  Riboflavin_USRDA    1\n",
       "8      Thiamin_mg     Thiamin_USRDA    1\n",
       "9      Calcium_mg     Calcium_USRDA    1\n",
       "10     Copper_mcg      Copper_USRDA    1\n",
       "11   Magnesium_mg   Magnesium_USRDA    1\n",
       "12  Phosphorus_mg  Phosphorus_USRDA    1\n",
       "13   Selenium_mcg    Selenium_USRDA    1\n",
       "14        Zinc_mg        Zinc_USRDA    1"
      ]
     },
     "execution_count": 16,
     "metadata": {},
     "output_type": "execute_result"
    }
   ],
   "source": [
    "# find highly correlated columns\n",
    "\n",
    "used = []\n",
    "corrs = []\n",
    "for i, j in enumerate(df.corr().columns):\n",
    "    for k in range(len(df.corr())):\n",
    "        if ((df.corr().iloc[k, i] > 0.9) & \n",
    "            (j not in used) &\n",
    "            (j != df.corr().index[k])):\n",
    "            \n",
    "            used.append(j)\n",
    "            corrs.append((j, df.corr().index[k], \n",
    "                          np.round(df.corr().iloc[k, i], 2)))\n",
    "\n",
    "            \n",
    "corrsdf = pd.DataFrame([[i[0] for i in corrs],\n",
    "                        [i[1] for i in corrs],\n",
    "                        [i[2] for i in corrs]])\n",
    "\n",
    "corrsdf = corrsdf.T.rename(columns = {0:'column',1:'row',2:'corr'})\n",
    "corrsdf[:15]"
   ]
  },
  {
   "cell_type": "markdown",
   "metadata": {},
   "source": [
    "You can see that the \"_USRDA\" features are redundant. They should be removed"
   ]
  },
  {
   "cell_type": "code",
   "execution_count": 18,
   "metadata": {},
   "outputs": [],
   "source": [
    "# remove the \"_USRDA\" features\n",
    "df = df[df.columns.drop(list(df.filter(regex='_USRDA')))]"
   ]
  },
  {
   "cell_type": "code",
   "execution_count": 19,
   "metadata": {},
   "outputs": [],
   "source": [
    "# Remove non-numeric features\n",
    "# put your code here ..."
   ]
  },
  {
   "cell_type": "code",
   "execution_count": 20,
   "metadata": {},
   "outputs": [
    {
     "data": {
      "image/png": "[encoded data removed]",
      "text/plain": [
       "<Figure size 792x792 with 25 Axes>"
      ]
     },
     "metadata": {
      "needs_background": "light"
     },
     "output_type": "display_data"
    }
   ],
   "source": [
    "# plot the distribution of each feature\n",
    "ax = df.hist(bins=50, xlabelsize=-1, ylabelsize=-1, figsize=(11,11))"
   ]
  },
  {
   "cell_type": "markdown",
   "metadata": {},
   "source": [
    "Most of the variables are \"zero\" inflated and skewed right. We may want to consider transformation so \"improve\" the distributions and hopefully produce better correlations for our PCA. Note: this is an optional step that may not always improve results.\n"
   ]
  },
  {
   "cell_type": "code",
   "execution_count": 24,
   "metadata": {},
   "outputs": [
    {
     "name": "stdout",
     "output_type": "stream",
     "text": [
      "mean:  0.0\n",
      "standard dev:  1.0\n"
     ]
    }
   ],
   "source": [
    "# you can normalise the original data if you do not use tranformation\n",
    "# normalise features\n",
    "df_norm = # put your code here ...\n",
    "\n",
    "print(\"mean: \", np.round(df_norm.mean(), 2))\n",
    "print(\"standard dev: \", np.round(df_norm.std(), 2))"
   ]
  },
  {
   "cell_type": "markdown",
   "metadata": {},
   "source": [
    "##### Implement PCA"
   ]
  },
  {
   "cell_type": "code",
   "execution_count": 25,
   "metadata": {},
   "outputs": [
    {
     "data": {
      "text/plain": [
       "array([[-2.63841405e+00, -1.70251245e+00,  1.28372455e+00, ...,\n",
       "         1.20971417e-01, -1.93807125e-02, -9.00855599e-01],\n",
       "       [-2.53793117e+00, -1.55046401e+00,  1.27981556e+00, ...,\n",
       "         2.68506480e-01,  3.62586666e-03, -8.95689899e-01],\n",
       "       [-3.75133548e+00, -2.08018978e+00,  2.06793168e+00, ...,\n",
       "        -1.62701828e-01, -3.22116614e-02, -9.97154120e-01],\n",
       "       ...,\n",
       "       [-3.28860010e+00,  6.89373532e-01,  1.81022922e+00, ...,\n",
       "         5.11991014e-01, -3.50434510e-01, -5.61815386e-01],\n",
       "       [ 1.78153849e+00, -7.35900960e-01, -1.99994641e+00, ...,\n",
       "         1.12915685e+00, -7.90341239e-01,  3.83494452e-01],\n",
       "       [ 1.21057434e+00, -1.20474083e+00, -2.16951015e+00, ...,\n",
       "         1.66434007e-01, -6.90435951e-01, -4.67142120e-01]])"
      ]
     },
     "execution_count": 25,
     "metadata": {},
     "output_type": "execute_result"
    }
   ],
   "source": [
    "# from sklearn.decomposition import PCA\n",
    "# apply PCA on df_norm\n",
    "fit = # put your code here ...\n",
    "pca = # put your code here ..."
   ]
  },
  {
   "cell_type": "code",
   "execution_count": 26,
   "metadata": {
    "scrolled": true
   },
   "outputs": [
    {
     "data": {
      "text/plain": [
       "[<matplotlib.lines.Line2D at 0x2ea8666dcf8>]"
      ]
     },
     "execution_count": 26,
     "metadata": {},
     "output_type": "execute_result"
    },
    {
     "data": {
      "image/png": "[encoded data removed]",
      "text/plain": [
       "<Figure size 432x288 with 1 Axes>"
      ]
     },
     "metadata": {
      "needs_background": "light"
     },
     "output_type": "display_data"
    }
   ],
   "source": [
    "# check the eigenvalues to find most important components\n",
    "\n",
    "plt.plot(fit.explained_variance_ratio_)"
   ]
  },
  {
   "cell_type": "code",
   "execution_count": 27,
   "metadata": {},
   "outputs": [
    {
     "name": "stdout",
     "output_type": "stream",
     "text": [
      "12 0.9051581893080729\n"
     ]
    }
   ],
   "source": [
    "# find the first nc eigenvectors that account for 90% of the variance\n",
    "\n",
    "\n",
    "nc=# put your code here ..."
   ]
  },
  {
   "cell_type": "code",
   "execution_count": 28,
   "metadata": {},
   "outputs": [
    {
     "data": {
      "text/html": [
       "<div>\n",
       "<style scoped>\n",
       "    .dataframe tbody tr th:only-of-type {\n",
       "        vertical-align: middle;\n",
       "    }\n",
       "\n",
       "    .dataframe tbody tr th {\n",
       "        vertical-align: top;\n",
       "    }\n",
       "\n",
       "    .dataframe thead th {\n",
       "        text-align: right;\n",
       "    }\n",
       "</style>\n",
       "<table border=\"1\" class=\"dataframe\">\n",
       "  <thead>\n",
       "    <tr style=\"text-align: right;\">\n",
       "      <th></th>\n",
       "      <th>c1</th>\n",
       "      <th>c2</th>\n",
       "      <th>c3</th>\n",
       "      <th>c4</th>\n",
       "      <th>c5</th>\n",
       "      <th>c6</th>\n",
       "      <th>c7</th>\n",
       "      <th>c8</th>\n",
       "      <th>c9</th>\n",
       "      <th>c10</th>\n",
       "      <th>c11</th>\n",
       "      <th>c12</th>\n",
       "    </tr>\n",
       "  </thead>\n",
       "  <tbody>\n",
       "    <tr>\n",
       "      <th>c1</th>\n",
       "      <td>1.0</td>\n",
       "      <td>-0.0</td>\n",
       "      <td>-0.0</td>\n",
       "      <td>-0.0</td>\n",
       "      <td>0.0</td>\n",
       "      <td>0.0</td>\n",
       "      <td>-0.0</td>\n",
       "      <td>-0.0</td>\n",
       "      <td>0.0</td>\n",
       "      <td>0.0</td>\n",
       "      <td>0.0</td>\n",
       "      <td>-0.0</td>\n",
       "    </tr>\n",
       "    <tr>\n",
       "      <th>c2</th>\n",
       "      <td>-0.0</td>\n",
       "      <td>1.0</td>\n",
       "      <td>0.0</td>\n",
       "      <td>-0.0</td>\n",
       "      <td>0.0</td>\n",
       "      <td>-0.0</td>\n",
       "      <td>0.0</td>\n",
       "      <td>-0.0</td>\n",
       "      <td>0.0</td>\n",
       "      <td>-0.0</td>\n",
       "      <td>-0.0</td>\n",
       "      <td>0.0</td>\n",
       "    </tr>\n",
       "    <tr>\n",
       "      <th>c3</th>\n",
       "      <td>-0.0</td>\n",
       "      <td>0.0</td>\n",
       "      <td>1.0</td>\n",
       "      <td>0.0</td>\n",
       "      <td>0.0</td>\n",
       "      <td>0.0</td>\n",
       "      <td>0.0</td>\n",
       "      <td>0.0</td>\n",
       "      <td>-0.0</td>\n",
       "      <td>-0.0</td>\n",
       "      <td>0.0</td>\n",
       "      <td>0.0</td>\n",
       "    </tr>\n",
       "    <tr>\n",
       "      <th>c4</th>\n",
       "      <td>-0.0</td>\n",
       "      <td>-0.0</td>\n",
       "      <td>0.0</td>\n",
       "      <td>1.0</td>\n",
       "      <td>0.0</td>\n",
       "      <td>0.0</td>\n",
       "      <td>-0.0</td>\n",
       "      <td>0.0</td>\n",
       "      <td>0.0</td>\n",
       "      <td>-0.0</td>\n",
       "      <td>0.0</td>\n",
       "      <td>-0.0</td>\n",
       "    </tr>\n",
       "    <tr>\n",
       "      <th>c5</th>\n",
       "      <td>0.0</td>\n",
       "      <td>0.0</td>\n",
       "      <td>0.0</td>\n",
       "      <td>0.0</td>\n",
       "      <td>1.0</td>\n",
       "      <td>-0.0</td>\n",
       "      <td>-0.0</td>\n",
       "      <td>0.0</td>\n",
       "      <td>-0.0</td>\n",
       "      <td>0.0</td>\n",
       "      <td>0.0</td>\n",
       "      <td>-0.0</td>\n",
       "    </tr>\n",
       "    <tr>\n",
       "      <th>c6</th>\n",
       "      <td>0.0</td>\n",
       "      <td>-0.0</td>\n",
       "      <td>0.0</td>\n",
       "      <td>0.0</td>\n",
       "      <td>-0.0</td>\n",
       "      <td>1.0</td>\n",
       "      <td>-0.0</td>\n",
       "      <td>0.0</td>\n",
       "      <td>0.0</td>\n",
       "      <td>0.0</td>\n",
       "      <td>0.0</td>\n",
       "      <td>-0.0</td>\n",
       "    </tr>\n",
       "    <tr>\n",
       "      <th>c7</th>\n",
       "      <td>-0.0</td>\n",
       "      <td>0.0</td>\n",
       "      <td>0.0</td>\n",
       "      <td>-0.0</td>\n",
       "      <td>-0.0</td>\n",
       "      <td>-0.0</td>\n",
       "      <td>1.0</td>\n",
       "      <td>0.0</td>\n",
       "      <td>0.0</td>\n",
       "      <td>0.0</td>\n",
       "      <td>0.0</td>\n",
       "      <td>0.0</td>\n",
       "    </tr>\n",
       "    <tr>\n",
       "      <th>c8</th>\n",
       "      <td>-0.0</td>\n",
       "      <td>-0.0</td>\n",
       "      <td>0.0</td>\n",
       "      <td>0.0</td>\n",
       "      <td>0.0</td>\n",
       "      <td>0.0</td>\n",
       "      <td>0.0</td>\n",
       "      <td>1.0</td>\n",
       "      <td>0.0</td>\n",
       "      <td>-0.0</td>\n",
       "      <td>-0.0</td>\n",
       "      <td>0.0</td>\n",
       "    </tr>\n",
       "    <tr>\n",
       "      <th>c9</th>\n",
       "      <td>0.0</td>\n",
       "      <td>0.0</td>\n",
       "      <td>-0.0</td>\n",
       "      <td>0.0</td>\n",
       "      <td>-0.0</td>\n",
       "      <td>0.0</td>\n",
       "      <td>0.0</td>\n",
       "      <td>0.0</td>\n",
       "      <td>1.0</td>\n",
       "      <td>-0.0</td>\n",
       "      <td>0.0</td>\n",
       "      <td>0.0</td>\n",
       "    </tr>\n",
       "    <tr>\n",
       "      <th>c10</th>\n",
       "      <td>0.0</td>\n",
       "      <td>-0.0</td>\n",
       "      <td>-0.0</td>\n",
       "      <td>-0.0</td>\n",
       "      <td>0.0</td>\n",
       "      <td>0.0</td>\n",
       "      <td>0.0</td>\n",
       "      <td>-0.0</td>\n",
       "      <td>-0.0</td>\n",
       "      <td>1.0</td>\n",
       "      <td>0.0</td>\n",
       "      <td>0.0</td>\n",
       "    </tr>\n",
       "    <tr>\n",
       "      <th>c11</th>\n",
       "      <td>0.0</td>\n",
       "      <td>-0.0</td>\n",
       "      <td>0.0</td>\n",
       "      <td>0.0</td>\n",
       "      <td>0.0</td>\n",
       "      <td>0.0</td>\n",
       "      <td>0.0</td>\n",
       "      <td>-0.0</td>\n",
       "      <td>0.0</td>\n",
       "      <td>0.0</td>\n",
       "      <td>1.0</td>\n",
       "      <td>-0.0</td>\n",
       "    </tr>\n",
       "    <tr>\n",
       "      <th>c12</th>\n",
       "      <td>-0.0</td>\n",
       "      <td>0.0</td>\n",
       "      <td>0.0</td>\n",
       "      <td>-0.0</td>\n",
       "      <td>-0.0</td>\n",
       "      <td>-0.0</td>\n",
       "      <td>0.0</td>\n",
       "      <td>0.0</td>\n",
       "      <td>0.0</td>\n",
       "      <td>0.0</td>\n",
       "      <td>-0.0</td>\n",
       "      <td>1.0</td>\n",
       "    </tr>\n",
       "  </tbody>\n",
       "</table>\n",
       "</div>"
      ],
      "text/plain": [
       "      c1   c2   c3   c4   c5   c6   c7   c8   c9  c10  c11  c12\n",
       "c1   1.0 -0.0 -0.0 -0.0  0.0  0.0 -0.0 -0.0  0.0  0.0  0.0 -0.0\n",
       "c2  -0.0  1.0  0.0 -0.0  0.0 -0.0  0.0 -0.0  0.0 -0.0 -0.0  0.0\n",
       "c3  -0.0  0.0  1.0  0.0  0.0  0.0  0.0  0.0 -0.0 -0.0  0.0  0.0\n",
       "c4  -0.0 -0.0  0.0  1.0  0.0  0.0 -0.0  0.0  0.0 -0.0  0.0 -0.0\n",
       "c5   0.0  0.0  0.0  0.0  1.0 -0.0 -0.0  0.0 -0.0  0.0  0.0 -0.0\n",
       "c6   0.0 -0.0  0.0  0.0 -0.0  1.0 -0.0  0.0  0.0  0.0  0.0 -0.0\n",
       "c7  -0.0  0.0  0.0 -0.0 -0.0 -0.0  1.0  0.0  0.0  0.0  0.0  0.0\n",
       "c8  -0.0 -0.0  0.0  0.0  0.0  0.0  0.0  1.0  0.0 -0.0 -0.0  0.0\n",
       "c9   0.0  0.0 -0.0  0.0 -0.0  0.0  0.0  0.0  1.0 -0.0  0.0  0.0\n",
       "c10  0.0 -0.0 -0.0 -0.0  0.0  0.0  0.0 -0.0 -0.0  1.0  0.0  0.0\n",
       "c11  0.0 -0.0  0.0  0.0  0.0  0.0  0.0 -0.0  0.0  0.0  1.0 -0.0\n",
       "c12 -0.0  0.0  0.0 -0.0 -0.0 -0.0  0.0  0.0  0.0  0.0 -0.0  1.0"
      ]
     },
     "execution_count": 28,
     "metadata": {},
     "output_type": "execute_result"
    }
   ],
   "source": [
    "# we see that the nc vectors are orthogonal\n",
    "\n",
    "pca = pd.DataFrame(pca[:, :nc], index=df.index)\n",
    "pca = pca.join(df_desc)\n",
    "pca.drop(['CommonName','MfgName','ScientificName'], axis=1, inplace=True)\n",
    "pca.rename(columns={i: 'c'+str(i+1) for i in range(nc)}, inplace=True)\n",
    "\n",
    "np.round(pca.corr(), nc)"
   ]
  },
  {
   "cell_type": "markdown",
   "metadata": {},
   "source": [
    "## Try to interpret the components\n",
    "\n",
    "(this is where deep subject matter expertise, in this case nutrition, comes in handy)\n",
    "\n",
    "\n",
    "**Component one** \n",
    "\n",
    "foods that are high in: zinc, and other vitamins and minerals\n",
    "\n",
    "low in: fat, sugar"
   ]
  },
  {
   "cell_type": "code",
   "execution_count": 29,
   "metadata": {},
   "outputs": [
    {
     "data": {
      "text/plain": [
       "Zinc_mg          0.308506\n",
       "Phosphorus_mg    0.305000\n",
       "Niacin_mg        0.294094\n",
       "Protein_g        0.286086\n",
       "Riboflavin_mg    0.282687\n",
       "VitB6_mg         0.270646\n",
       "Selenium_mcg     0.264114\n",
       "Iron_mg          0.262314\n",
       "Magnesium_mg     0.260245\n",
       "Thiamin_mg       0.235440\n",
       "VitB12_mcg       0.221322\n",
       "Copper_mcg       0.220232\n",
       "Folate_mcg       0.167856\n",
       "Energy_kcal      0.165126\n",
       "Fat_g            0.161488\n",
       "Calcium_mg       0.135512\n",
       "VitE_mg          0.090808\n",
       "Manganese_mg     0.088762\n",
       "VitA_mcg         0.056996\n",
       "Fiber_g         -0.004663\n",
       "Carb_g          -0.033767\n",
       "VitC_mg         -0.069830\n",
       "Sugar_g         -0.076132\n",
       "dtype: float64"
      ]
     },
     "execution_count": 29,
     "metadata": {},
     "output_type": "execute_result"
    }
   ],
   "source": [
    "vects = fit.components_[:nc]\n",
    "\n",
    "one = pd.Series(vects[0], index=df.columns)\n",
    "one.sort_values(ascending=False)"
   ]
  },
  {
   "cell_type": "code",
   "execution_count": null,
   "metadata": {},
   "outputs": [],
   "source": []
  }
 ],
 "metadata": {
  "kernelspec": {
   "display_name": "Python 3",
   "language": "python",
   "name": "python3"
  },
  "language_info": {
   "codemirror_mode": {
    "name": "ipython",
    "version": 3
   },
   "file_extension": ".py",
   "mimetype": "text/x-python",
   "name": "python",
   "nbconvert_exporter": "python",
   "pygments_lexer": "ipython3",
   "version": "3.7.4"
  },
  "name": "_merged"
 },
 "nbformat": 4,
 "nbformat_minor": 2
}
